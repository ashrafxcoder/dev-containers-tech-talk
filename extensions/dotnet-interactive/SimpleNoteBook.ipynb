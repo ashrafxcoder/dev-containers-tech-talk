{
 "cells": [
  {
   "cell_type": "code",
   "execution_count": null,
   "metadata": {
    "dotnet_interactive": {
     "language": "csharp"
    },
    "vscode": {
     "languageId": "dotnet-interactive.csharp"
    }
   },
   "outputs": [
    {
     "name": "stdout",
     "output_type": "stream",
     "text": [
      "Todays date is: 8/17/2022 10:30:46 PM\n"
     ]
    }
   ],
   "source": [
    "using static System.Console;\n",
    "\n",
    "WriteLine($\"Todays date is: {DateTime.Now}\");"
   ]
  },
  {
   "cell_type": "markdown",
   "metadata": {},
   "source": [
    "### HttpClient Example"
   ]
  },
  {
   "cell_type": "code",
   "execution_count": null,
   "metadata": {
    "dotnet_interactive": {
     "language": "csharp"
    },
    "vscode": {
     "languageId": "dotnet-interactive.csharp"
    }
   },
   "outputs": [
    {
     "name": "stdout",
     "output_type": "stream",
     "text": [
      "{\"count\":1,\"entries\":[{\"API\":\"British National Bibliography\",\"Description\":\"Books\",\"Auth\":\"\",\"HTTPS\":false,\"Cors\":\"unknown\",\"Link\":\"http://bnb.data.bl.uk/\",\"Category\":\"Books\"}]}\n",
      "\n"
     ]
    }
   ],
   "source": [
    "using System.Net.Http;\n",
    "\n",
    "var randomEntries = await new HttpClient().GetStringAsync(\"https://api.publicapis.org/random\");\n",
    "\n",
    "WriteLine(randomEntries);"
   ]
  }
 ],
 "metadata": {
  "kernelspec": {
   "display_name": ".NET (C#)",
   "language": "C#",
   "name": ".net-csharp"
  },
  "language_info": {
   "name": "C#"
  }
 },
 "nbformat": 4,
 "nbformat_minor": 2
}
